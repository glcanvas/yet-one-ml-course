{
 "cells": [
  {
   "cell_type": "code",
   "execution_count": 28,
   "metadata": {
    "collapsed": true
   },
   "outputs": [],
   "source": [
    "import requests\n",
    "import datetime\n",
    "import pandas as pd\n",
    "import io"
   ]
  },
  {
   "cell_type": "code",
   "execution_count": 29,
   "outputs": [],
   "source": [
    "\n",
    "def load_stock(ticker:str, begin_time, end_time):\n",
    "    pattern = \"https://query1.finance.yahoo.com/v7/finance/download/{0}?period1={1}&period2={2}&interval=1d&events=history&includeAdjustedClose=false\"\n",
    "    request_url = pattern.format(ticker, int(begin_time.timestamp()), int(end_time.timestamp()))\n",
    "    return requests.get(request_url)"
   ],
   "metadata": {
    "collapsed": false,
    "pycharm": {
     "name": "#%%\n"
    }
   }
  },
  {
   "cell_type": "code",
   "execution_count": 31,
   "outputs": [
    {
     "name": "stdout",
     "output_type": "stream",
     "text": [
      "            Date         Open         High          Low        Close  \\\n",
      "0     1997-05-15     2.437500     2.500000     1.927083     1.958333   \n",
      "1     1997-05-16     1.968750     1.979167     1.708333     1.729167   \n",
      "2     1997-05-19     1.760417     1.770833     1.625000     1.708333   \n",
      "3     1997-05-20     1.729167     1.750000     1.635417     1.635417   \n",
      "4     1997-05-21     1.635417     1.645833     1.375000     1.427083   \n",
      "...          ...          ...          ...          ...          ...   \n",
      "5972  2021-02-08  3358.500000  3365.000000  3304.000000  3322.939941   \n",
      "5973  2021-02-09  3312.489990  3338.000000  3297.840088  3305.000000   \n",
      "5974  2021-02-10  3314.000000  3317.949951  3254.000000  3286.580078   \n",
      "5975  2021-02-11  3292.000000  3292.000000  3248.060059  3262.129883   \n",
      "5976  2021-02-12  3250.000000  3280.250000  3233.310059  3277.709961   \n",
      "\n",
      "        Adj Close    Volume  \n",
      "0        1.958333  72156000  \n",
      "1        1.729167  14700000  \n",
      "2        1.708333   6106800  \n",
      "3        1.635417   5467200  \n",
      "4        1.427083  18853200  \n",
      "...           ...       ...  \n",
      "5972  3322.939941   3257400  \n",
      "5973  3305.000000   2203500  \n",
      "5974  3286.580078   3151600  \n",
      "5975  3262.129883   2295800  \n",
      "5976  3277.709961   2329300  \n",
      "\n",
      "[5977 rows x 7 columns]\n"
     ]
    }
   ],
   "source": [
    "begin = datetime.datetime(1971, 1, 1)\n",
    "end = datetime.datetime(2025, 1, 1)\n",
    "\n",
    "res = load_stock(\"AMZN\", begin, end)\n",
    "data = res.content.decode(\"utf-8\")\n",
    "d = pd.read_csv(io.StringIO(data))\n",
    "\n",
    "print(d)"
   ],
   "metadata": {
    "collapsed": false,
    "pycharm": {
     "name": "#%%\n"
    }
   }
  }
 ],
 "metadata": {
  "kernelspec": {
   "name": "python3",
   "language": "python",
   "display_name": "Python 3"
  },
  "language_info": {
   "codemirror_mode": {
    "name": "ipython",
    "version": 2
   },
   "file_extension": ".py",
   "mimetype": "text/x-python",
   "name": "python",
   "nbconvert_exporter": "python",
   "pygments_lexer": "ipython2",
   "version": "2.7.6"
  }
 },
 "nbformat": 4,
 "nbformat_minor": 0
}